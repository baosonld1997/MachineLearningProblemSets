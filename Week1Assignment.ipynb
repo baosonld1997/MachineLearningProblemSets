{
  "nbformat": 4,
  "nbformat_minor": 0,
  "metadata": {
    "colab": {
      "name": "Copy of DAwP_Assignment_1.ipynb",
      "provenance": [],
      "collapsed_sections": [
        "8X02yDnvFR6Y"
      ]
    },
    "kernelspec": {
      "name": "python3",
      "display_name": "Python 3"
    }
  },
  "cells": [
    {
      "cell_type": "markdown",
      "metadata": {
        "id": "jjZG7BNlbWtO",
        "colab_type": "text"
      },
      "source": [
        "![](https://i.imgur.com/0AUxkXt.png)"
      ]
    },
    {
      "cell_type": "markdown",
      "metadata": {
        "id": "jbpQzyjqbflM",
        "colab_type": "text"
      },
      "source": [
        "# Assignment 1 - The Hacker Rank\n",
        "\n",
        "HackerRank is a place where programmers from all over the world come together to solve problems in a wide range of Computer Science domains.\n",
        "\n",
        "As you solve more challenges, you earn points and move up the HackerRank Leaderboard.\n",
        "\n",
        "Looking for a job at an awesome company? You can get hired by solving [challenges](https://www.hackerrank.com/jobs/search)!\n",
        "\n",
        "It's cool. Let's establish your knowledge and fight for glory!\n",
        "\n",
        "But before that let's make it clear that.."
      ]
    },
    {
      "cell_type": "markdown",
      "metadata": {
        "id": "-ndmD4naciAN",
        "colab_type": "text"
      },
      "source": [
        "## Note-taking is IMPORTANT\n",
        "\n",
        "Blog: [Why is note-taking important](https://nickblackbourn.com/blog/why-is-note-taking-important/)\n",
        "\n",
        "Note taking isn’t just important for college students, it’s a valuable life skill.\n",
        "\n",
        "Effective note taking helps you to remember information and aids your understanding of that information. \n",
        "\n",
        "**Notes boost your understanding**\n",
        "\n",
        "By making notes, you force yourself to construct a conceptual mental representation of the ideas you are grappling with. It is this process that helps you comprehend the subject matter you are working with.\n",
        "\n",
        "**Notes are a repository of your thinking**\n",
        "\n",
        "When you need to recall something that you came across a while ago, you can go over the main ideas by looking over your notes. This is why good, comprehensive notes are so useful; they are a catalogue of the best ideas you’ve encountered, and what you thought about them.\n",
        "\n",
        "etc.\n",
        "\n",
        "\n",
        "\n",
        "\n",
        "\n",
        "\n",
        "\n"
      ]
    },
    {
      "cell_type": "markdown",
      "metadata": {
        "id": "IGvKPsdVfX-F",
        "colab_type": "text"
      },
      "source": [
        "## Requirements\n",
        "\n",
        "Pick 10 challenges on HackerRank about SQL and 5 about Python in **easy** level:\n",
        "\n",
        "[HackerRank - Domain SQL](https://www.hackerrank.com/domains/sql?filters%5Bdifficulty%5D%5B%5D=easy&filters%5Bsubdomains%5D%5B%5D=select)\n",
        "\n",
        "[HackerRank - Domain Python](https://www.hackerrank.com/domains/python?filters%5Bdifficulty%5D%5B%5D=easy)\n",
        "\n",
        "For each challenge:\n",
        "\n",
        "* Create a markdown cell first that describes the challenge.\n",
        "* Solve the challenge on HackerRank and copy your solution to a code cell below\n",
        "* (Optional) A short description about how you came up with the solution would be awesome."
      ]
    },
    {
      "cell_type": "markdown",
      "metadata": {
        "id": "higGK1Y5iAea",
        "colab_type": "text"
      },
      "source": [
        "## Example"
      ]
    },
    {
      "cell_type": "markdown",
      "metadata": {
        "id": "D2yU2FYDi4tj",
        "colab_type": "text"
      },
      "source": [
        "### SQL"
      ]
    },
    {
      "cell_type": "markdown",
      "metadata": {
        "id": "gu4DDH7Ki77C",
        "colab_type": "text"
      },
      "source": [
        "\n",
        "#### Problem 1\n",
        "\n",
        "Query all columns for all American cities in **CITY** with populations larger than 100000. The CountryCode for America is USA.\n",
        "\n",
        "**Input Format**\n",
        "\n",
        "The **CITY** table is described as follows:\n",
        "\n",
        "| Field | Type |\n",
        "|:----:|:---:|\n",
        "| ID | NUMBER |\n",
        "| NAME | VARCHAR2(17) |\n",
        "| COUNTRYCODE | VARCHAR2(3) |\n",
        "| DISTRICT | VARCHAR2(20) |\n",
        "| POPULATION | NUMBER |"
      ]
    },
    {
      "cell_type": "code",
      "metadata": {
        "id": "hhAwMjyhbT1b",
        "colab_type": "code",
        "colab": {}
      },
      "source": [
        "# Solution\n",
        "# SELECT * from city WHERE population>100000 AND countrycode='USA';"
      ],
      "execution_count": 0,
      "outputs": []
    },
    {
      "cell_type": "markdown",
      "metadata": {
        "id": "0AxyfiJijJ7T",
        "colab_type": "text"
      },
      "source": [
        "Python"
      ]
    },
    {
      "cell_type": "markdown",
      "metadata": {
        "id": "PEW8LsB5jLqf",
        "colab_type": "text"
      },
      "source": [
        "#### Problem 1\n",
        "\n",
        "**Task** \n",
        "Given an integer, , perform the following conditional actions:\n",
        "\n",
        "* If `n` is odd, print *Weird*\n",
        "* If `n` is even and in the inclusive range of 2 to 5, print *Not Weird*\n",
        "* If `n` is even and in the inclusive range of 6 to 20, print *Weird*\n",
        "* If `n` is even and greater than 20, print *Not Weird*\n",
        "\n",
        "**Input Format**\n",
        "\n",
        "A single line containing a positive integer, .\n",
        "\n",
        "**Output Format**\n",
        "\n",
        "Print Weird if the number is weird; otherwise, print Not Weird."
      ]
    },
    {
      "cell_type": "code",
      "metadata": {
        "id": "JBOxgw0zjLC2",
        "colab_type": "code",
        "colab": {}
      },
      "source": [
        "n = int(input())\n",
        "\n",
        "if n % 2 == 1:\n",
        "    print('Weird')\n",
        "else:\n",
        "    if (n >= 2) and (n <= 5):\n",
        "        print('Not Weird')\n",
        "    elif (n >= 6) and (n <= 20):\n",
        "        print('Weird')\n",
        "    else:\n",
        "        print('Not Weird')"
      ],
      "execution_count": 0,
      "outputs": []
    },
    {
      "cell_type": "markdown",
      "metadata": {
        "id": "a-Q3VE7YkA9A",
        "colab_type": "text"
      },
      "source": [
        "## Your turn\n",
        "\n",
        "Good luck and have fun!"
      ]
    },
    {
      "cell_type": "markdown",
      "metadata": {
        "id": "8X02yDnvFR6Y",
        "colab_type": "text"
      },
      "source": [
        "###SQL"
      ]
    },
    {
      "cell_type": "markdown",
      "metadata": {
        "id": "kXTgNYqxDAIl",
        "colab_type": "text"
      },
      "source": [
        "https://www.hackerrank.com/challenges/revising-the-select-query/problem\n",
        "\n",
        "Query all columns for all American cities in CITY with populations larger than 100000. The CountryCode for America is USA.\n"
      ]
    },
    {
      "cell_type": "code",
      "metadata": {
        "id": "RdkdZgjaj0To",
        "colab_type": "code",
        "colab": {}
      },
      "source": [
        "SELECT * from CITY WHERE POPULATION>100000 AND COUNTRYCODE='USA';"
      ],
      "execution_count": 0,
      "outputs": []
    },
    {
      "cell_type": "markdown",
      "metadata": {
        "id": "yayj2vNWDoNG",
        "colab_type": "text"
      },
      "source": [
        "https://www.hackerrank.com/challenges/revising-the-select-query-2/problem\n",
        "\n",
        "Query the names of all American cities in CITY with populations larger than 120000. The CountryCode for America is USA."
      ]
    },
    {
      "cell_type": "code",
      "metadata": {
        "id": "Ml6LPoEODU42",
        "colab_type": "code",
        "colab": {}
      },
      "source": [
        "SELECT name FROM city WHERE population>120000 AND CountryCode='USA';"
      ],
      "execution_count": 0,
      "outputs": []
    },
    {
      "cell_type": "markdown",
      "metadata": {
        "id": "Yy3NWBcGD4xz",
        "colab_type": "text"
      },
      "source": [
        "https://www.hackerrank.com/challenges/select-all-sql/problem\n",
        "\n",
        "Query all columns (attributes) for every row in the CITY table."
      ]
    },
    {
      "cell_type": "code",
      "metadata": {
        "id": "Pfk88m8-D4Fy",
        "colab_type": "code",
        "colab": {}
      },
      "source": [
        "SELECT * FROM city;"
      ],
      "execution_count": 0,
      "outputs": []
    },
    {
      "cell_type": "markdown",
      "metadata": {
        "id": "YHY0Zm-sEKIl",
        "colab_type": "text"
      },
      "source": [
        "https://www.hackerrank.com/challenges/select-by-id/problem\n",
        "  \n",
        "Query all columns for a city in CITY with the ID 1661."
      ]
    },
    {
      "cell_type": "code",
      "metadata": {
        "id": "-e3akO0Gj_gk",
        "colab_type": "code",
        "colab": {}
      },
      "source": [
        "SELECT * FROM city WHERE ID=1661;\n",
        "\n"
      ],
      "execution_count": 0,
      "outputs": []
    },
    {
      "cell_type": "markdown",
      "metadata": {
        "id": "Ds__boOaETZH",
        "colab_type": "text"
      },
      "source": [
        "https://www.hackerrank.com/challenges/japanese-cities-attributes/problem\n",
        "\n",
        "Query all attributes of every Japanese city in the CITY table. The COUNTRYCODE for Japan is JPN."
      ]
    },
    {
      "cell_type": "code",
      "metadata": {
        "id": "f7tCgxdCEIGW",
        "colab_type": "code",
        "colab": {}
      },
      "source": [
        "SELECT * FROM city WHERE countrycode='JPN';"
      ],
      "execution_count": 0,
      "outputs": []
    },
    {
      "cell_type": "markdown",
      "metadata": {
        "id": "IBN8CAr_Ec7g",
        "colab_type": "text"
      },
      "source": [
        "https://www.hackerrank.com/challenges/japanese-cities-name/problem\n",
        "\n",
        "Query the names of all the Japanese cities in the CITY table. The COUNTRYCODE for Japan is JPN."
      ]
    },
    {
      "cell_type": "code",
      "metadata": {
        "id": "2XvO7i5fEhXd",
        "colab_type": "code",
        "colab": {}
      },
      "source": [
        "SELECT name FROM city WHERE countrycode='JPN';"
      ],
      "execution_count": 0,
      "outputs": []
    },
    {
      "cell_type": "markdown",
      "metadata": {
        "id": "0g-ynV_IEpBs",
        "colab_type": "text"
      },
      "source": [
        "https://www.hackerrank.com/challenges/weather-observation-station-1/problem\n",
        "\n",
        "Query a list of CITY and STATE from the STATION table."
      ]
    },
    {
      "cell_type": "code",
      "metadata": {
        "id": "fRW-ncxuEr6E",
        "colab_type": "code",
        "colab": {}
      },
      "source": [
        "SELECT city, state FROM station;"
      ],
      "execution_count": 0,
      "outputs": []
    },
    {
      "cell_type": "markdown",
      "metadata": {
        "id": "_15QLbMGEx5t",
        "colab_type": "text"
      },
      "source": [
        "https://www.hackerrank.com/challenges/weather-observation-station-3/problem\n",
        "\n",
        "Query a list of CITY names from STATION with even ID numbers only. You may print the results in any order, but must exclude duplicates from your answer."
      ]
    },
    {
      "cell_type": "code",
      "metadata": {
        "id": "3HZ7kRydE4UO",
        "colab_type": "code",
        "colab": {}
      },
      "source": [
        "SELECT DISTINCT city FROM station WHERE (mod(ID, 2) = 0);"
      ],
      "execution_count": 0,
      "outputs": []
    },
    {
      "cell_type": "markdown",
      "metadata": {
        "id": "jXwo4daVE6IW",
        "colab_type": "text"
      },
      "source": [
        "https://www.hackerrank.com/challenges/weather-observation-station-4/problem\n",
        "\n",
        "Let N be the number of CITY entries in STATION, and let N' be the number of distinct CITY names in STATION; query the value of N - N' from STATION. In other words, find the difference between the total number of CITY entries in the table and the number of distinct CITY entries in the table."
      ]
    },
    {
      "cell_type": "code",
      "metadata": {
        "id": "LOgWko8uE5Vc",
        "colab_type": "code",
        "colab": {}
      },
      "source": [
        "SELECT COUNT(city) - COUNT(DISTINCT city)\n",
        "FROM station;"
      ],
      "execution_count": 0,
      "outputs": []
    },
    {
      "cell_type": "markdown",
      "metadata": {
        "id": "134bTqHNFIXZ",
        "colab_type": "text"
      },
      "source": [
        "https://www.hackerrank.com/challenges/weather-observation-station-6/problem\n",
        "\n",
        "Query the list of CITY names starting with vowels (i.e., a, e, i, o, or u) from STATION. Your result cannot contain duplicates."
      ]
    },
    {
      "cell_type": "code",
      "metadata": {
        "id": "jkIXlWZRFLqT",
        "colab_type": "code",
        "colab": {}
      },
      "source": [
        "SELECT DISTINCT city FROM station WHERE LEFT(city, 1)='a' OR LEFT(city, 1)='e' OR LEFT(city, 1)='i' OR LEFT(city, 1)='o' OR LEFT(city, 1)='u';"
      ],
      "execution_count": 0,
      "outputs": []
    },
    {
      "cell_type": "markdown",
      "metadata": {
        "id": "c3_N751SFVRv",
        "colab_type": "text"
      },
      "source": [
        "###Python"
      ]
    },
    {
      "cell_type": "markdown",
      "metadata": {
        "id": "6xOko6IVFbHU",
        "colab_type": "text"
      },
      "source": [
        "https://www.hackerrank.com/challenges/py-hello-world/problem\n",
        "\n",
        "Here is a sample line of code that can be executed in Python:\n",
        "\n",
        "print(\"Hello, World!\")\n",
        "You can just as easily store a string as a variable and then print it to stdout:\n",
        "\n",
        "my_string = \"Hello, World!\"\n",
        "print(my_string)\n",
        "The above code will print Hello, World! on your screen. Try it yourself in the editor below!\n",
        "\n",
        "Input Format\n",
        "\n",
        "You do not need to read any input in this challenge.\n",
        "\n",
        "Output Format\n",
        "\n",
        "Print Hello, World! to stdout.\n",
        "\n",
        "Sample Output 0\n",
        "\n",
        "Hello, World!"
      ]
    },
    {
      "cell_type": "code",
      "metadata": {
        "id": "_BDEzztLF5BH",
        "colab_type": "code",
        "colab": {
          "base_uri": "https://localhost:8080/",
          "height": 34
        },
        "outputId": "1951a378-5833-40c5-de11-e0c0a0c516cf"
      },
      "source": [
        "if __name__ == '__main__':\n",
        "    print(\"Hello, World!\")\n"
      ],
      "execution_count": 10,
      "outputs": [
        {
          "output_type": "stream",
          "text": [
            "Hello, World!\n"
          ],
          "name": "stdout"
        }
      ]
    },
    {
      "cell_type": "markdown",
      "metadata": {
        "id": "A4xB2p_pGF86",
        "colab_type": "text"
      },
      "source": [
        "https://www.hackerrank.com/challenges/py-if-else/problem\n",
        "\n",
        "Task\n",
        "Given an integer, , perform the following conditional actions:\n",
        "\n",
        "If  is odd, print Weird\n",
        "If  is even and in the inclusive range of  to , print Not Weird\n",
        "If  is even and in the inclusive range of  to , print Weird\n",
        "If  is even and greater than , print Not Weird"
      ]
    },
    {
      "cell_type": "code",
      "metadata": {
        "id": "oiFS-2rEGKt9",
        "colab_type": "code",
        "colab": {
          "base_uri": "https://localhost:8080/",
          "height": 51
        },
        "outputId": "e25c7feb-d80c-4976-aaab-32d7a7bbfcd5"
      },
      "source": [
        "import math\n",
        "import os\n",
        "import random\n",
        "import re\n",
        "import sys\n",
        "\n",
        "\n",
        "\n",
        "if __name__ == '__main__':\n",
        "    n = int(input().strip())\n",
        "    if(n % 2 == 1):\n",
        "        print(\"Weird\")\n",
        "    else:\n",
        "        if(n <= 5):\n",
        "            print(\"Not Weird\")\n",
        "        elif (n <= 20):\n",
        "            print(\"Weird\")\n",
        "        else:\n",
        "            print(\"Not Weird\")\n"
      ],
      "execution_count": 9,
      "outputs": [
        {
          "output_type": "stream",
          "text": [
            "3\n",
            "Weird\n"
          ],
          "name": "stdout"
        }
      ]
    },
    {
      "cell_type": "markdown",
      "metadata": {
        "id": "Yyq4o0yIGU4D",
        "colab_type": "text"
      },
      "source": [
        "https://www.hackerrank.com/challenges/python-arithmetic-operators/problem\n",
        "\n",
        "Task\n",
        "Read two integers from STDIN and print three lines where:\n",
        "\n",
        "The first line contains the sum of the two numbers.\n",
        "The second line contains the difference of the two numbers (first - second).\n",
        "The third line contains the product of the two numbers."
      ]
    },
    {
      "cell_type": "code",
      "metadata": {
        "id": "OIQ9l0mAGbIR",
        "colab_type": "code",
        "colab": {
          "base_uri": "https://localhost:8080/",
          "height": 102
        },
        "outputId": "b4348490-e4c4-4daf-9c1f-a7ef65ee7593"
      },
      "source": [
        "if __name__ == '__main__':\n",
        "    a = int(input())\n",
        "    b = int(input())\n",
        "    print(a + b)\n",
        "    print(a - b)\n",
        "    print(a * b)"
      ],
      "execution_count": 6,
      "outputs": [
        {
          "output_type": "stream",
          "text": [
            "1\n",
            "2\n",
            "3\n",
            "-1\n",
            "2\n"
          ],
          "name": "stdout"
        }
      ]
    },
    {
      "cell_type": "markdown",
      "metadata": {
        "id": "yAFmxae7Gh27",
        "colab_type": "text"
      },
      "source": [
        "https://www.hackerrank.com/challenges/python-division/problem\n",
        "\n",
        "Task\n",
        "Read two integers and print two lines. The first line should contain integer division,  // . The second line should contain float division,  / .\n",
        "\n",
        "You don't need to perform any rounding or formatting operations."
      ]
    },
    {
      "cell_type": "code",
      "metadata": {
        "id": "6F_30g56Glaq",
        "colab_type": "code",
        "colab": {
          "base_uri": "https://localhost:8080/",
          "height": 85
        },
        "outputId": "d141ed32-7405-4983-b7ab-d2344859a2e7"
      },
      "source": [
        "if __name__ == '__main__':\n",
        "    a = int(input())\n",
        "    b = int(input())\n",
        "    print(a//b)\n",
        "    print(a/b)"
      ],
      "execution_count": 5,
      "outputs": [
        {
          "output_type": "stream",
          "text": [
            "4\n",
            "3\n",
            "1\n",
            "1.3333333333333333\n"
          ],
          "name": "stdout"
        }
      ]
    },
    {
      "cell_type": "markdown",
      "metadata": {
        "id": "ypoh1T4-Gy3k",
        "colab_type": "text"
      },
      "source": [
        "https://www.hackerrank.com/challenges/python-loops/problem\n",
        "\n",
        "Task\n",
        "Read an integer . For all non-negative integers , print . See the sample for details."
      ]
    },
    {
      "cell_type": "code",
      "metadata": {
        "id": "P464cA3_G4ve",
        "colab_type": "code",
        "colab": {
          "base_uri": "https://localhost:8080/",
          "height": 85
        },
        "outputId": "4e680dcd-44a5-44cf-aeee-e6696f6b12c7"
      },
      "source": [
        "if __name__ == '__main__':\n",
        "    n = int(input())\n",
        "    for i in range(n):\n",
        "        print(i**2)"
      ],
      "execution_count": 3,
      "outputs": [
        {
          "output_type": "stream",
          "text": [
            "3\n",
            "0\n",
            "1\n",
            "4\n"
          ],
          "name": "stdout"
        }
      ]
    },
    {
      "cell_type": "markdown",
      "metadata": {
        "id": "roTr7H0QG5rg",
        "colab_type": "text"
      },
      "source": [
        "https://www.hackerrank.com/challenges/list-comprehensions/problem\n",
        "\n"
      ]
    },
    {
      "cell_type": "code",
      "metadata": {
        "id": "9kJQi55JHI5P",
        "colab_type": "code",
        "colab": {
          "base_uri": "https://localhost:8080/",
          "height": 102
        },
        "outputId": "fd0f4778-79bb-46f4-f7bd-3122f8fb538e"
      },
      "source": [
        "if __name__ == '__main__':\n",
        "    x = int(input())\n",
        "    y = int(input())\n",
        "    z = int(input())\n",
        "    n = int(input())\n",
        "    print([ [i, j, k] for i in range(x + 1) for j in range(y+1) for k in range(z+1) if((i + j + k) != n)])\n",
        "\n"
      ],
      "execution_count": 4,
      "outputs": [
        {
          "output_type": "stream",
          "text": [
            "1\n",
            "1\n",
            "1\n",
            "2\n",
            "[[0, 0, 0], [0, 0, 1], [0, 1, 0], [1, 0, 0], [1, 1, 1]]\n"
          ],
          "name": "stdout"
        }
      ]
    }
  ]
}