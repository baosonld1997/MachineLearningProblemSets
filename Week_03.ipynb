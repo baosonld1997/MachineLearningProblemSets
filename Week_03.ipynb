{
  "nbformat": 4,
  "nbformat_minor": 0,
  "metadata": {
    "colab": {
      "name": "Copy of Assignment_3_EDA.ipynb",
      "provenance": [],
      "collapsed_sections": []
    },
    "language_info": {
      "codemirror_mode": {
        "name": "ipython",
        "version": 3
      },
      "file_extension": ".py",
      "mimetype": "text/x-python",
      "name": "python",
      "nbconvert_exporter": "python",
      "pygments_lexer": "ipython3",
      "version": "3.6.5"
    },
    "kernelspec": {
      "display_name": "Python 3",
      "language": "python",
      "name": "python3"
    }
  },
  "cells": [
    {
      "cell_type": "markdown",
      "metadata": {
        "id": "x7fdTGs4SnyS",
        "colab_type": "text"
      },
      "source": [
        "![](https://i.imgur.com/0AUxkXt.png)"
      ]
    },
    {
      "cell_type": "markdown",
      "metadata": {
        "id": "_uqy69P0Pm0L",
        "colab_type": "text"
      },
      "source": [
        "# Assignment 3 - From data to insights\n",
        "\n",
        "Before you explore the data, write down a short list of what you expect to see in the data: the distribution of key variables, the relationships between important pairs of them, and so on. Such a list is essentially a prediction based on your current understanding of the business.\n",
        "\n",
        "Now analyze the data. Make plots, do summaries, whatever is needed to see if it matches your expectations.\n",
        "\n",
        "Is there anything that doesn’t match? Anything that makes you go “That’s odd” or “That doesn’t make any sense.”?\n",
        "\n",
        "Zoom in and try to understand what in your business is making that weird thing show up in the data like that. This is the critical step.\n",
        "\n",
        "You may have just found an insight into the business and increased your understanding\n",
        "\n",
        "\n",
        "## The data analysis checklist\n",
        "\n",
        "This checklist can be used as a guide during the process of a data analysis, or as a way to evaluate the quality of a reported data analysis.\n",
        "\n",
        "### Answering the first questions\n",
        "\n",
        "1. Did you define the metric for success before beginning?\n",
        "2. Did you understand the context for the question and business application?\n",
        "3. Did you consider whether the question could be answered with the available data?\n",
        "\n",
        "### Cleaning the data\n",
        "\n",
        "1. Did you identify the missing data?\n",
        "2. Is each variable one column?\n",
        "3. Do different data types appear in each table?\n",
        "4. Did you try to identify any errors or miscoding of variables?\n",
        "5. Did you check for outliers?\n",
        "\n",
        "### Exploratory analysis\n",
        "\n",
        "1. Did you make univariate plots (histogram, distplot, boxplot)?\n",
        "2. Did you consider correlations between variables (scatterplot, jointplot, kde plot, correlation matrix)?\n",
        "3. Did you check the units of all data points to make sure they are in the right range?\n",
        "\n",
        "### Presentations\n",
        "\n",
        "1. Did you lead with a brief, understandable to everyone of your problem?\n",
        "2. Did you explain the data, describe the question of interest?\n",
        "3. Did you make sure all legends and axes were legible from the back of the room?"
      ]
    },
    {
      "cell_type": "markdown",
      "metadata": {
        "id": "ZBc0glanPm0M",
        "colab_type": "text"
      },
      "source": [
        "## Dataset - Online Retailes Purchase\n",
        "\n",
        "Typically e-commerce datasets are proprietary and consequently hard to find among publicly available data. However, [The UCI Machine Learning Repository](http://archive.ics.uci.edu/ml/index.php) has made this dataset containing actual transactions from 2010 and 2011. The dataset is maintained on their site, where it can be found by the title \"Online Retail\".\n",
        "\n",
        "\n",
        "### Step 1 - Checking the data\n",
        "\n",
        "**Import tools set**"
      ]
    },
    {
      "cell_type": "code",
      "metadata": {
        "id": "9Cx3LXxfPm0N",
        "colab_type": "code",
        "colab": {}
      },
      "source": [
        "# Your code here\n",
        "import numpy as np\n",
        "import pandas as pd\n",
        "import seaborn as sns\n",
        "import matplotlib.pyplot as plt"
      ],
      "execution_count": 0,
      "outputs": []
    },
    {
      "cell_type": "markdown",
      "metadata": {
        "id": "mFTQu0j6Pm0Q",
        "colab_type": "text"
      },
      "source": [
        "**Import data**"
      ]
    },
    {
      "cell_type": "code",
      "metadata": {
        "id": "w0YVchrVPm0R",
        "colab_type": "code",
        "colab": {}
      },
      "source": [
        "# link = \"https://ml101-khanhnguyen.s3-ap-southeast-1.amazonaws.com/devc/Online_Retail.csv\"\n",
        "# Note: set param encoding = 'latin1'\n",
        "# Your code here\n",
        "df = pd.read_csv(\"https://ml101-khanhnguyen.s3-ap-southeast-1.amazonaws.com/devc/Online_Retail.csv\", encoding = \"latin1\")\n"
      ],
      "execution_count": 0,
      "outputs": []
    },
    {
      "cell_type": "code",
      "metadata": {
        "id": "V3v8D3pTFrYh",
        "colab_type": "code",
        "colab": {
          "base_uri": "https://localhost:8080/",
          "height": 204
        },
        "outputId": "d36f878f-70b4-402e-86f6-914d6df04d27"
      },
      "source": [
        "# Print out First 5 rows from dataframe\n",
        "# Your code here\n",
        "df.head(5)"
      ],
      "execution_count": 4,
      "outputs": [
        {
          "output_type": "execute_result",
          "data": {
            "text/html": [
              "<div>\n",
              "<style scoped>\n",
              "    .dataframe tbody tr th:only-of-type {\n",
              "        vertical-align: middle;\n",
              "    }\n",
              "\n",
              "    .dataframe tbody tr th {\n",
              "        vertical-align: top;\n",
              "    }\n",
              "\n",
              "    .dataframe thead th {\n",
              "        text-align: right;\n",
              "    }\n",
              "</style>\n",
              "<table border=\"1\" class=\"dataframe\">\n",
              "  <thead>\n",
              "    <tr style=\"text-align: right;\">\n",
              "      <th></th>\n",
              "      <th>InvoiceNo</th>\n",
              "      <th>StockCode</th>\n",
              "      <th>Description</th>\n",
              "      <th>Quantity</th>\n",
              "      <th>InvoiceDate</th>\n",
              "      <th>UnitPrice</th>\n",
              "      <th>CustomerID</th>\n",
              "      <th>Country</th>\n",
              "    </tr>\n",
              "  </thead>\n",
              "  <tbody>\n",
              "    <tr>\n",
              "      <th>0</th>\n",
              "      <td>536365</td>\n",
              "      <td>85123A</td>\n",
              "      <td>WHITE HANGING HEART T-LIGHT HOLDER</td>\n",
              "      <td>6</td>\n",
              "      <td>12/1/10 8:26</td>\n",
              "      <td>2.55</td>\n",
              "      <td>17850.0</td>\n",
              "      <td>United Kingdom</td>\n",
              "    </tr>\n",
              "    <tr>\n",
              "      <th>1</th>\n",
              "      <td>536365</td>\n",
              "      <td>71053</td>\n",
              "      <td>WHITE METAL LANTERN</td>\n",
              "      <td>6</td>\n",
              "      <td>12/1/10 8:26</td>\n",
              "      <td>3.39</td>\n",
              "      <td>17850.0</td>\n",
              "      <td>United Kingdom</td>\n",
              "    </tr>\n",
              "    <tr>\n",
              "      <th>2</th>\n",
              "      <td>536365</td>\n",
              "      <td>84406B</td>\n",
              "      <td>CREAM CUPID HEARTS COAT HANGER</td>\n",
              "      <td>8</td>\n",
              "      <td>12/1/10 8:26</td>\n",
              "      <td>2.75</td>\n",
              "      <td>17850.0</td>\n",
              "      <td>United Kingdom</td>\n",
              "    </tr>\n",
              "    <tr>\n",
              "      <th>3</th>\n",
              "      <td>536365</td>\n",
              "      <td>84029G</td>\n",
              "      <td>KNITTED UNION FLAG HOT WATER BOTTLE</td>\n",
              "      <td>6</td>\n",
              "      <td>12/1/10 8:26</td>\n",
              "      <td>3.39</td>\n",
              "      <td>17850.0</td>\n",
              "      <td>United Kingdom</td>\n",
              "    </tr>\n",
              "    <tr>\n",
              "      <th>4</th>\n",
              "      <td>536365</td>\n",
              "      <td>84029E</td>\n",
              "      <td>RED WOOLLY HOTTIE WHITE HEART.</td>\n",
              "      <td>6</td>\n",
              "      <td>12/1/10 8:26</td>\n",
              "      <td>3.39</td>\n",
              "      <td>17850.0</td>\n",
              "      <td>United Kingdom</td>\n",
              "    </tr>\n",
              "  </tbody>\n",
              "</table>\n",
              "</div>"
            ],
            "text/plain": [
              "  InvoiceNo StockCode  ... CustomerID         Country\n",
              "0    536365    85123A  ...    17850.0  United Kingdom\n",
              "1    536365     71053  ...    17850.0  United Kingdom\n",
              "2    536365    84406B  ...    17850.0  United Kingdom\n",
              "3    536365    84029G  ...    17850.0  United Kingdom\n",
              "4    536365    84029E  ...    17850.0  United Kingdom\n",
              "\n",
              "[5 rows x 8 columns]"
            ]
          },
          "metadata": {
            "tags": []
          },
          "execution_count": 4
        }
      ]
    },
    {
      "cell_type": "code",
      "metadata": {
        "id": "u4Msf54uFy4w",
        "colab_type": "code",
        "colab": {
          "base_uri": "https://localhost:8080/",
          "height": 238
        },
        "outputId": "fa3c263b-2b20-4951-da8b-e897f0b02dbd"
      },
      "source": [
        "# Print out brief info\n",
        "df.info()"
      ],
      "execution_count": 5,
      "outputs": [
        {
          "output_type": "stream",
          "text": [
            "<class 'pandas.core.frame.DataFrame'>\n",
            "RangeIndex: 541909 entries, 0 to 541908\n",
            "Data columns (total 8 columns):\n",
            "InvoiceNo      541909 non-null object\n",
            "StockCode      541909 non-null object\n",
            "Description    540455 non-null object\n",
            "Quantity       541909 non-null int64\n",
            "InvoiceDate    541909 non-null object\n",
            "UnitPrice      541909 non-null float64\n",
            "CustomerID     406829 non-null float64\n",
            "Country        541909 non-null object\n",
            "dtypes: float64(2), int64(1), object(5)\n",
            "memory usage: 33.1+ MB\n"
          ],
          "name": "stdout"
        }
      ]
    },
    {
      "cell_type": "markdown",
      "metadata": {
        "id": "wY6yv3UsPm0k",
        "colab_type": "text"
      },
      "source": [
        "### Step 2 - Cleaning the data\n",
        "\n",
        "Few of useful data cleaning functions:\n",
        "\n",
        "* `s.astype('category')` # This will convert the datatype of the series to float *Please note that \"s\" here is a Pandas Series\n",
        "\n",
        "* `s.replace(1,'one')` # This will replace all values equal to 1 with 'one'\n",
        "\n",
        "* `s.replace([1,3],['one','three'])` # This will replace all 1 with 'one' and 3 with 'three'\n",
        "\n",
        "* `data.rename(columns=lambda x: x + 1)` # Mass renaming of columns\n",
        "\n",
        "* `data.rename(columns={'oldname': 'new name'})` # Selective renaming\n",
        "\n",
        "* `data.set_index('column_one')` #  This will change the index\n",
        "\n",
        "* `data.rename(index=lambda x: x + 1)` # Mass renaming of index\n",
        "\n",
        "* `data.dropna()` # Remove missing values\n",
        "\n",
        "* `data.fillna(x)` #  This will replaces all null values with x\n",
        "\n",
        "* `s.fillna(s.mean())` # This will replace all null values with the mean (mean can be replaced with almost any function from the below section) :\n",
        "\n",
        "* `data.corr()` # This will return the correlation between columns in a DataFrame\n",
        "\n",
        "* `data.count()` # This will return the number of non-null values in each DataFrame column\n",
        "\n",
        "* `data.max()` # This will return the highest value in each column\n",
        "\n",
        "* `data.min()` # This will return the lowest value in each column\n",
        "\n",
        "* `data.median()` # This will return the median of each column\n",
        "\n",
        "* `data.std()` # This will returns the standard deviation of each column\n"
      ]
    },
    {
      "cell_type": "markdown",
      "metadata": {
        "id": "rcNsGWarPm06",
        "colab_type": "text"
      },
      "source": [
        "**Check for NaN values**"
      ]
    },
    {
      "cell_type": "code",
      "metadata": {
        "id": "TqLxHGy2Pm06",
        "colab_type": "code",
        "colab": {
          "base_uri": "https://localhost:8080/",
          "height": 170
        },
        "outputId": "8d5e1842-34b6-4997-bd5b-15f1166c61c3"
      },
      "source": [
        "# Your code here\n",
        "df.isna().sum()"
      ],
      "execution_count": 7,
      "outputs": [
        {
          "output_type": "execute_result",
          "data": {
            "text/plain": [
              "InvoiceNo           0\n",
              "StockCode           0\n",
              "Description      1454\n",
              "Quantity            0\n",
              "InvoiceDate         0\n",
              "UnitPrice           0\n",
              "CustomerID     135080\n",
              "Country             0\n",
              "dtype: int64"
            ]
          },
          "metadata": {
            "tags": []
          },
          "execution_count": 7
        }
      ]
    },
    {
      "cell_type": "markdown",
      "metadata": {
        "id": "RdhPk_x1Pm0-",
        "colab_type": "text"
      },
      "source": [
        "**Examine few examples of NaN values**"
      ]
    },
    {
      "cell_type": "code",
      "metadata": {
        "id": "3kGYpbdOPm0-",
        "colab_type": "code",
        "colab": {
          "base_uri": "https://localhost:8080/",
          "height": 1000
        },
        "outputId": "bf84f305-bd2c-4c83-fd91-beaa665ff248"
      },
      "source": [
        "# List all NaN values of Description\n",
        "df[df[\"Description\"].isnull()]"
      ],
      "execution_count": 8,
      "outputs": [
        {
          "output_type": "execute_result",
          "data": {
            "text/html": [
              "<div>\n",
              "<style scoped>\n",
              "    .dataframe tbody tr th:only-of-type {\n",
              "        vertical-align: middle;\n",
              "    }\n",
              "\n",
              "    .dataframe tbody tr th {\n",
              "        vertical-align: top;\n",
              "    }\n",
              "\n",
              "    .dataframe thead th {\n",
              "        text-align: right;\n",
              "    }\n",
              "</style>\n",
              "<table border=\"1\" class=\"dataframe\">\n",
              "  <thead>\n",
              "    <tr style=\"text-align: right;\">\n",
              "      <th></th>\n",
              "      <th>InvoiceNo</th>\n",
              "      <th>StockCode</th>\n",
              "      <th>Description</th>\n",
              "      <th>Quantity</th>\n",
              "      <th>InvoiceDate</th>\n",
              "      <th>UnitPrice</th>\n",
              "      <th>CustomerID</th>\n",
              "      <th>Country</th>\n",
              "    </tr>\n",
              "  </thead>\n",
              "  <tbody>\n",
              "    <tr>\n",
              "      <th>622</th>\n",
              "      <td>536414</td>\n",
              "      <td>22139</td>\n",
              "      <td>NaN</td>\n",
              "      <td>56</td>\n",
              "      <td>12/1/10 11:52</td>\n",
              "      <td>0.0</td>\n",
              "      <td>NaN</td>\n",
              "      <td>United Kingdom</td>\n",
              "    </tr>\n",
              "    <tr>\n",
              "      <th>1970</th>\n",
              "      <td>536545</td>\n",
              "      <td>21134</td>\n",
              "      <td>NaN</td>\n",
              "      <td>1</td>\n",
              "      <td>12/1/10 14:32</td>\n",
              "      <td>0.0</td>\n",
              "      <td>NaN</td>\n",
              "      <td>United Kingdom</td>\n",
              "    </tr>\n",
              "    <tr>\n",
              "      <th>1971</th>\n",
              "      <td>536546</td>\n",
              "      <td>22145</td>\n",
              "      <td>NaN</td>\n",
              "      <td>1</td>\n",
              "      <td>12/1/10 14:33</td>\n",
              "      <td>0.0</td>\n",
              "      <td>NaN</td>\n",
              "      <td>United Kingdom</td>\n",
              "    </tr>\n",
              "    <tr>\n",
              "      <th>1972</th>\n",
              "      <td>536547</td>\n",
              "      <td>37509</td>\n",
              "      <td>NaN</td>\n",
              "      <td>1</td>\n",
              "      <td>12/1/10 14:33</td>\n",
              "      <td>0.0</td>\n",
              "      <td>NaN</td>\n",
              "      <td>United Kingdom</td>\n",
              "    </tr>\n",
              "    <tr>\n",
              "      <th>1987</th>\n",
              "      <td>536549</td>\n",
              "      <td>85226A</td>\n",
              "      <td>NaN</td>\n",
              "      <td>1</td>\n",
              "      <td>12/1/10 14:34</td>\n",
              "      <td>0.0</td>\n",
              "      <td>NaN</td>\n",
              "      <td>United Kingdom</td>\n",
              "    </tr>\n",
              "    <tr>\n",
              "      <th>1988</th>\n",
              "      <td>536550</td>\n",
              "      <td>85044</td>\n",
              "      <td>NaN</td>\n",
              "      <td>1</td>\n",
              "      <td>12/1/10 14:34</td>\n",
              "      <td>0.0</td>\n",
              "      <td>NaN</td>\n",
              "      <td>United Kingdom</td>\n",
              "    </tr>\n",
              "    <tr>\n",
              "      <th>2024</th>\n",
              "      <td>536552</td>\n",
              "      <td>20950</td>\n",
              "      <td>NaN</td>\n",
              "      <td>1</td>\n",
              "      <td>12/1/10 14:34</td>\n",
              "      <td>0.0</td>\n",
              "      <td>NaN</td>\n",
              "      <td>United Kingdom</td>\n",
              "    </tr>\n",
              "    <tr>\n",
              "      <th>2025</th>\n",
              "      <td>536553</td>\n",
              "      <td>37461</td>\n",
              "      <td>NaN</td>\n",
              "      <td>3</td>\n",
              "      <td>12/1/10 14:35</td>\n",
              "      <td>0.0</td>\n",
              "      <td>NaN</td>\n",
              "      <td>United Kingdom</td>\n",
              "    </tr>\n",
              "    <tr>\n",
              "      <th>2026</th>\n",
              "      <td>536554</td>\n",
              "      <td>84670</td>\n",
              "      <td>NaN</td>\n",
              "      <td>23</td>\n",
              "      <td>12/1/10 14:35</td>\n",
              "      <td>0.0</td>\n",
              "      <td>NaN</td>\n",
              "      <td>United Kingdom</td>\n",
              "    </tr>\n",
              "    <tr>\n",
              "      <th>2406</th>\n",
              "      <td>536589</td>\n",
              "      <td>21777</td>\n",
              "      <td>NaN</td>\n",
              "      <td>-10</td>\n",
              "      <td>12/1/10 16:50</td>\n",
              "      <td>0.0</td>\n",
              "      <td>NaN</td>\n",
              "      <td>United Kingdom</td>\n",
              "    </tr>\n",
              "    <tr>\n",
              "      <th>4347</th>\n",
              "      <td>536764</td>\n",
              "      <td>84952C</td>\n",
              "      <td>NaN</td>\n",
              "      <td>-38</td>\n",
              "      <td>12/2/10 14:42</td>\n",
              "      <td>0.0</td>\n",
              "      <td>NaN</td>\n",
              "      <td>United Kingdom</td>\n",
              "    </tr>\n",
              "    <tr>\n",
              "      <th>4348</th>\n",
              "      <td>536765</td>\n",
              "      <td>84952C</td>\n",
              "      <td>NaN</td>\n",
              "      <td>19</td>\n",
              "      <td>12/2/10 14:43</td>\n",
              "      <td>0.0</td>\n",
              "      <td>NaN</td>\n",
              "      <td>United Kingdom</td>\n",
              "    </tr>\n",
              "    <tr>\n",
              "      <th>7187</th>\n",
              "      <td>536995</td>\n",
              "      <td>35951</td>\n",
              "      <td>NaN</td>\n",
              "      <td>57</td>\n",
              "      <td>12/3/10 15:29</td>\n",
              "      <td>0.0</td>\n",
              "      <td>NaN</td>\n",
              "      <td>United Kingdom</td>\n",
              "    </tr>\n",
              "    <tr>\n",
              "      <th>7188</th>\n",
              "      <td>536996</td>\n",
              "      <td>22712</td>\n",
              "      <td>NaN</td>\n",
              "      <td>-20</td>\n",
              "      <td>12/3/10 15:30</td>\n",
              "      <td>0.0</td>\n",
              "      <td>NaN</td>\n",
              "      <td>United Kingdom</td>\n",
              "    </tr>\n",
              "    <tr>\n",
              "      <th>7189</th>\n",
              "      <td>536997</td>\n",
              "      <td>22028</td>\n",
              "      <td>NaN</td>\n",
              "      <td>-20</td>\n",
              "      <td>12/3/10 15:30</td>\n",
              "      <td>0.0</td>\n",
              "      <td>NaN</td>\n",
              "      <td>United Kingdom</td>\n",
              "    </tr>\n",
              "    <tr>\n",
              "      <th>7190</th>\n",
              "      <td>536998</td>\n",
              "      <td>85067</td>\n",
              "      <td>NaN</td>\n",
              "      <td>-6</td>\n",
              "      <td>12/3/10 15:30</td>\n",
              "      <td>0.0</td>\n",
              "      <td>NaN</td>\n",
              "      <td>United Kingdom</td>\n",
              "    </tr>\n",
              "    <tr>\n",
              "      <th>7191</th>\n",
              "      <td>536999</td>\n",
              "      <td>21421</td>\n",
              "      <td>NaN</td>\n",
              "      <td>110</td>\n",
              "      <td>12/3/10 15:32</td>\n",
              "      <td>0.0</td>\n",
              "      <td>NaN</td>\n",
              "      <td>United Kingdom</td>\n",
              "    </tr>\n",
              "    <tr>\n",
              "      <th>7192</th>\n",
              "      <td>537000</td>\n",
              "      <td>21414</td>\n",
              "      <td>NaN</td>\n",
              "      <td>-22</td>\n",
              "      <td>12/3/10 15:32</td>\n",
              "      <td>0.0</td>\n",
              "      <td>NaN</td>\n",
              "      <td>United Kingdom</td>\n",
              "    </tr>\n",
              "    <tr>\n",
              "      <th>7193</th>\n",
              "      <td>537001</td>\n",
              "      <td>21653</td>\n",
              "      <td>NaN</td>\n",
              "      <td>-6</td>\n",
              "      <td>12/3/10 15:33</td>\n",
              "      <td>0.0</td>\n",
              "      <td>NaN</td>\n",
              "      <td>United Kingdom</td>\n",
              "    </tr>\n",
              "    <tr>\n",
              "      <th>7194</th>\n",
              "      <td>537002</td>\n",
              "      <td>21651</td>\n",
              "      <td>NaN</td>\n",
              "      <td>70</td>\n",
              "      <td>12/3/10 15:33</td>\n",
              "      <td>0.0</td>\n",
              "      <td>NaN</td>\n",
              "      <td>United Kingdom</td>\n",
              "    </tr>\n",
              "    <tr>\n",
              "      <th>7195</th>\n",
              "      <td>537003</td>\n",
              "      <td>85126</td>\n",
              "      <td>NaN</td>\n",
              "      <td>-2</td>\n",
              "      <td>12/3/10 15:33</td>\n",
              "      <td>0.0</td>\n",
              "      <td>NaN</td>\n",
              "      <td>United Kingdom</td>\n",
              "    </tr>\n",
              "    <tr>\n",
              "      <th>7196</th>\n",
              "      <td>537004</td>\n",
              "      <td>21814</td>\n",
              "      <td>NaN</td>\n",
              "      <td>-30</td>\n",
              "      <td>12/3/10 15:34</td>\n",
              "      <td>0.0</td>\n",
              "      <td>NaN</td>\n",
              "      <td>United Kingdom</td>\n",
              "    </tr>\n",
              "    <tr>\n",
              "      <th>7197</th>\n",
              "      <td>537005</td>\n",
              "      <td>21692</td>\n",
              "      <td>NaN</td>\n",
              "      <td>-70</td>\n",
              "      <td>12/3/10 15:35</td>\n",
              "      <td>0.0</td>\n",
              "      <td>NaN</td>\n",
              "      <td>United Kingdom</td>\n",
              "    </tr>\n",
              "    <tr>\n",
              "      <th>7198</th>\n",
              "      <td>537006</td>\n",
              "      <td>21648</td>\n",
              "      <td>NaN</td>\n",
              "      <td>-130</td>\n",
              "      <td>12/3/10 15:36</td>\n",
              "      <td>0.0</td>\n",
              "      <td>NaN</td>\n",
              "      <td>United Kingdom</td>\n",
              "    </tr>\n",
              "    <tr>\n",
              "      <th>7199</th>\n",
              "      <td>537007</td>\n",
              "      <td>21172</td>\n",
              "      <td>NaN</td>\n",
              "      <td>-80</td>\n",
              "      <td>12/3/10 15:36</td>\n",
              "      <td>0.0</td>\n",
              "      <td>NaN</td>\n",
              "      <td>United Kingdom</td>\n",
              "    </tr>\n",
              "    <tr>\n",
              "      <th>7200</th>\n",
              "      <td>537008</td>\n",
              "      <td>21161</td>\n",
              "      <td>NaN</td>\n",
              "      <td>-120</td>\n",
              "      <td>12/3/10 15:37</td>\n",
              "      <td>0.0</td>\n",
              "      <td>NaN</td>\n",
              "      <td>United Kingdom</td>\n",
              "    </tr>\n",
              "    <tr>\n",
              "      <th>7201</th>\n",
              "      <td>537009</td>\n",
              "      <td>84534B</td>\n",
              "      <td>NaN</td>\n",
              "      <td>-80</td>\n",
              "      <td>12/3/10 15:38</td>\n",
              "      <td>0.0</td>\n",
              "      <td>NaN</td>\n",
              "      <td>United Kingdom</td>\n",
              "    </tr>\n",
              "    <tr>\n",
              "      <th>7202</th>\n",
              "      <td>537010</td>\n",
              "      <td>22162</td>\n",
              "      <td>NaN</td>\n",
              "      <td>-40</td>\n",
              "      <td>12/3/10 15:38</td>\n",
              "      <td>0.0</td>\n",
              "      <td>NaN</td>\n",
              "      <td>United Kingdom</td>\n",
              "    </tr>\n",
              "    <tr>\n",
              "      <th>7203</th>\n",
              "      <td>537011</td>\n",
              "      <td>22139</td>\n",
              "      <td>NaN</td>\n",
              "      <td>-5</td>\n",
              "      <td>12/3/10 15:38</td>\n",
              "      <td>0.0</td>\n",
              "      <td>NaN</td>\n",
              "      <td>United Kingdom</td>\n",
              "    </tr>\n",
              "    <tr>\n",
              "      <th>7204</th>\n",
              "      <td>537012</td>\n",
              "      <td>21535</td>\n",
              "      <td>NaN</td>\n",
              "      <td>-12</td>\n",
              "      <td>12/3/10 15:39</td>\n",
              "      <td>0.0</td>\n",
              "      <td>NaN</td>\n",
              "      <td>United Kingdom</td>\n",
              "    </tr>\n",
              "    <tr>\n",
              "      <th>...</th>\n",
              "      <td>...</td>\n",
              "      <td>...</td>\n",
              "      <td>...</td>\n",
              "      <td>...</td>\n",
              "      <td>...</td>\n",
              "      <td>...</td>\n",
              "      <td>...</td>\n",
              "      <td>...</td>\n",
              "    </tr>\n",
              "    <tr>\n",
              "      <th>497632</th>\n",
              "      <td>578431</td>\n",
              "      <td>22579</td>\n",
              "      <td>NaN</td>\n",
              "      <td>-18</td>\n",
              "      <td>11/24/11 12:15</td>\n",
              "      <td>0.0</td>\n",
              "      <td>NaN</td>\n",
              "      <td>United Kingdom</td>\n",
              "    </tr>\n",
              "    <tr>\n",
              "      <th>497677</th>\n",
              "      <td>578456</td>\n",
              "      <td>22579</td>\n",
              "      <td>NaN</td>\n",
              "      <td>11</td>\n",
              "      <td>11/24/11 12:29</td>\n",
              "      <td>0.0</td>\n",
              "      <td>NaN</td>\n",
              "      <td>United Kingdom</td>\n",
              "    </tr>\n",
              "    <tr>\n",
              "      <th>498597</th>\n",
              "      <td>578529</td>\n",
              "      <td>22087</td>\n",
              "      <td>NaN</td>\n",
              "      <td>-23</td>\n",
              "      <td>11/24/11 14:29</td>\n",
              "      <td>0.0</td>\n",
              "      <td>NaN</td>\n",
              "      <td>United Kingdom</td>\n",
              "    </tr>\n",
              "    <tr>\n",
              "      <th>499156</th>\n",
              "      <td>578628</td>\n",
              "      <td>23541</td>\n",
              "      <td>NaN</td>\n",
              "      <td>20</td>\n",
              "      <td>11/24/11 15:55</td>\n",
              "      <td>0.0</td>\n",
              "      <td>NaN</td>\n",
              "      <td>United Kingdom</td>\n",
              "    </tr>\n",
              "    <tr>\n",
              "      <th>499157</th>\n",
              "      <td>578629</td>\n",
              "      <td>22943</td>\n",
              "      <td>NaN</td>\n",
              "      <td>24</td>\n",
              "      <td>11/24/11 15:56</td>\n",
              "      <td>0.0</td>\n",
              "      <td>NaN</td>\n",
              "      <td>United Kingdom</td>\n",
              "    </tr>\n",
              "    <tr>\n",
              "      <th>499169</th>\n",
              "      <td>578632</td>\n",
              "      <td>22579</td>\n",
              "      <td>NaN</td>\n",
              "      <td>4</td>\n",
              "      <td>11/24/11 16:22</td>\n",
              "      <td>0.0</td>\n",
              "      <td>NaN</td>\n",
              "      <td>United Kingdom</td>\n",
              "    </tr>\n",
              "    <tr>\n",
              "      <th>499787</th>\n",
              "      <td>578693</td>\n",
              "      <td>21811</td>\n",
              "      <td>NaN</td>\n",
              "      <td>1</td>\n",
              "      <td>11/25/11 9:38</td>\n",
              "      <td>0.0</td>\n",
              "      <td>NaN</td>\n",
              "      <td>United Kingdom</td>\n",
              "    </tr>\n",
              "    <tr>\n",
              "      <th>500161</th>\n",
              "      <td>578738</td>\n",
              "      <td>21638</td>\n",
              "      <td>NaN</td>\n",
              "      <td>-33</td>\n",
              "      <td>11/25/11 11:33</td>\n",
              "      <td>0.0</td>\n",
              "      <td>NaN</td>\n",
              "      <td>United Kingdom</td>\n",
              "    </tr>\n",
              "    <tr>\n",
              "      <th>508796</th>\n",
              "      <td>579272</td>\n",
              "      <td>22812</td>\n",
              "      <td>NaN</td>\n",
              "      <td>2</td>\n",
              "      <td>11/29/11 10:00</td>\n",
              "      <td>0.0</td>\n",
              "      <td>NaN</td>\n",
              "      <td>United Kingdom</td>\n",
              "    </tr>\n",
              "    <tr>\n",
              "      <th>510622</th>\n",
              "      <td>579460</td>\n",
              "      <td>21110</td>\n",
              "      <td>NaN</td>\n",
              "      <td>-151</td>\n",
              "      <td>11/29/11 14:39</td>\n",
              "      <td>0.0</td>\n",
              "      <td>NaN</td>\n",
              "      <td>United Kingdom</td>\n",
              "    </tr>\n",
              "    <tr>\n",
              "      <th>511451</th>\n",
              "      <td>579500</td>\n",
              "      <td>22810</td>\n",
              "      <td>NaN</td>\n",
              "      <td>33</td>\n",
              "      <td>11/29/11 16:14</td>\n",
              "      <td>0.0</td>\n",
              "      <td>NaN</td>\n",
              "      <td>United Kingdom</td>\n",
              "    </tr>\n",
              "    <tr>\n",
              "      <th>514205</th>\n",
              "      <td>579688</td>\n",
              "      <td>21116</td>\n",
              "      <td>NaN</td>\n",
              "      <td>-33</td>\n",
              "      <td>11/30/11 13:51</td>\n",
              "      <td>0.0</td>\n",
              "      <td>NaN</td>\n",
              "      <td>United Kingdom</td>\n",
              "    </tr>\n",
              "    <tr>\n",
              "      <th>514287</th>\n",
              "      <td>579691</td>\n",
              "      <td>47503A</td>\n",
              "      <td>NaN</td>\n",
              "      <td>-5</td>\n",
              "      <td>11/30/11 14:05</td>\n",
              "      <td>0.0</td>\n",
              "      <td>NaN</td>\n",
              "      <td>United Kingdom</td>\n",
              "    </tr>\n",
              "    <tr>\n",
              "      <th>514651</th>\n",
              "      <td>579738</td>\n",
              "      <td>21927</td>\n",
              "      <td>NaN</td>\n",
              "      <td>8</td>\n",
              "      <td>11/30/11 14:26</td>\n",
              "      <td>0.0</td>\n",
              "      <td>NaN</td>\n",
              "      <td>United Kingdom</td>\n",
              "    </tr>\n",
              "    <tr>\n",
              "      <th>516189</th>\n",
              "      <td>579880</td>\n",
              "      <td>22947</td>\n",
              "      <td>NaN</td>\n",
              "      <td>5</td>\n",
              "      <td>11/30/11 17:14</td>\n",
              "      <td>0.0</td>\n",
              "      <td>NaN</td>\n",
              "      <td>United Kingdom</td>\n",
              "    </tr>\n",
              "    <tr>\n",
              "      <th>517719</th>\n",
              "      <td>580087</td>\n",
              "      <td>84341B</td>\n",
              "      <td>NaN</td>\n",
              "      <td>-2</td>\n",
              "      <td>12/1/11 14:27</td>\n",
              "      <td>0.0</td>\n",
              "      <td>NaN</td>\n",
              "      <td>United Kingdom</td>\n",
              "    </tr>\n",
              "    <tr>\n",
              "      <th>519967</th>\n",
              "      <td>580197</td>\n",
              "      <td>22696</td>\n",
              "      <td>NaN</td>\n",
              "      <td>6</td>\n",
              "      <td>12/2/11 12:04</td>\n",
              "      <td>0.0</td>\n",
              "      <td>NaN</td>\n",
              "      <td>United Kingdom</td>\n",
              "    </tr>\n",
              "    <tr>\n",
              "      <th>521333</th>\n",
              "      <td>580359</td>\n",
              "      <td>20775</td>\n",
              "      <td>NaN</td>\n",
              "      <td>-35</td>\n",
              "      <td>12/2/11 16:11</td>\n",
              "      <td>0.0</td>\n",
              "      <td>NaN</td>\n",
              "      <td>United Kingdom</td>\n",
              "    </tr>\n",
              "    <tr>\n",
              "      <th>522160</th>\n",
              "      <td>580379</td>\n",
              "      <td>72225C</td>\n",
              "      <td>NaN</td>\n",
              "      <td>-144</td>\n",
              "      <td>12/2/11 17:57</td>\n",
              "      <td>0.0</td>\n",
              "      <td>NaN</td>\n",
              "      <td>United Kingdom</td>\n",
              "    </tr>\n",
              "    <tr>\n",
              "      <th>522162</th>\n",
              "      <td>580381</td>\n",
              "      <td>21758</td>\n",
              "      <td>NaN</td>\n",
              "      <td>-9</td>\n",
              "      <td>12/2/11 17:58</td>\n",
              "      <td>0.0</td>\n",
              "      <td>NaN</td>\n",
              "      <td>United Kingdom</td>\n",
              "    </tr>\n",
              "    <tr>\n",
              "      <th>524473</th>\n",
              "      <td>580580</td>\n",
              "      <td>21804</td>\n",
              "      <td>NaN</td>\n",
              "      <td>10</td>\n",
              "      <td>12/5/11 10:33</td>\n",
              "      <td>0.0</td>\n",
              "      <td>NaN</td>\n",
              "      <td>United Kingdom</td>\n",
              "    </tr>\n",
              "    <tr>\n",
              "      <th>524475</th>\n",
              "      <td>580588</td>\n",
              "      <td>21808</td>\n",
              "      <td>NaN</td>\n",
              "      <td>5</td>\n",
              "      <td>12/5/11 10:35</td>\n",
              "      <td>0.0</td>\n",
              "      <td>NaN</td>\n",
              "      <td>United Kingdom</td>\n",
              "    </tr>\n",
              "    <tr>\n",
              "      <th>529667</th>\n",
              "      <td>580743</td>\n",
              "      <td>47591B</td>\n",
              "      <td>NaN</td>\n",
              "      <td>1</td>\n",
              "      <td>12/6/11 9:30</td>\n",
              "      <td>0.0</td>\n",
              "      <td>NaN</td>\n",
              "      <td>United Kingdom</td>\n",
              "    </tr>\n",
              "    <tr>\n",
              "      <th>533711</th>\n",
              "      <td>581102</td>\n",
              "      <td>21803</td>\n",
              "      <td>NaN</td>\n",
              "      <td>20</td>\n",
              "      <td>12/7/11 11:57</td>\n",
              "      <td>0.0</td>\n",
              "      <td>NaN</td>\n",
              "      <td>United Kingdom</td>\n",
              "    </tr>\n",
              "    <tr>\n",
              "      <th>533712</th>\n",
              "      <td>581103</td>\n",
              "      <td>22689</td>\n",
              "      <td>NaN</td>\n",
              "      <td>4</td>\n",
              "      <td>12/7/11 11:58</td>\n",
              "      <td>0.0</td>\n",
              "      <td>NaN</td>\n",
              "      <td>United Kingdom</td>\n",
              "    </tr>\n",
              "    <tr>\n",
              "      <th>535322</th>\n",
              "      <td>581199</td>\n",
              "      <td>84581</td>\n",
              "      <td>NaN</td>\n",
              "      <td>-2</td>\n",
              "      <td>12/7/11 18:26</td>\n",
              "      <td>0.0</td>\n",
              "      <td>NaN</td>\n",
              "      <td>United Kingdom</td>\n",
              "    </tr>\n",
              "    <tr>\n",
              "      <th>535326</th>\n",
              "      <td>581203</td>\n",
              "      <td>23406</td>\n",
              "      <td>NaN</td>\n",
              "      <td>15</td>\n",
              "      <td>12/7/11 18:31</td>\n",
              "      <td>0.0</td>\n",
              "      <td>NaN</td>\n",
              "      <td>United Kingdom</td>\n",
              "    </tr>\n",
              "    <tr>\n",
              "      <th>535332</th>\n",
              "      <td>581209</td>\n",
              "      <td>21620</td>\n",
              "      <td>NaN</td>\n",
              "      <td>6</td>\n",
              "      <td>12/7/11 18:35</td>\n",
              "      <td>0.0</td>\n",
              "      <td>NaN</td>\n",
              "      <td>United Kingdom</td>\n",
              "    </tr>\n",
              "    <tr>\n",
              "      <th>536981</th>\n",
              "      <td>581234</td>\n",
              "      <td>72817</td>\n",
              "      <td>NaN</td>\n",
              "      <td>27</td>\n",
              "      <td>12/8/11 10:33</td>\n",
              "      <td>0.0</td>\n",
              "      <td>NaN</td>\n",
              "      <td>United Kingdom</td>\n",
              "    </tr>\n",
              "    <tr>\n",
              "      <th>538554</th>\n",
              "      <td>581408</td>\n",
              "      <td>85175</td>\n",
              "      <td>NaN</td>\n",
              "      <td>20</td>\n",
              "      <td>12/8/11 14:06</td>\n",
              "      <td>0.0</td>\n",
              "      <td>NaN</td>\n",
              "      <td>United Kingdom</td>\n",
              "    </tr>\n",
              "  </tbody>\n",
              "</table>\n",
              "<p>1454 rows × 8 columns</p>\n",
              "</div>"
            ],
            "text/plain": [
              "       InvoiceNo StockCode Description  ...  UnitPrice CustomerID         Country\n",
              "622       536414     22139         NaN  ...        0.0        NaN  United Kingdom\n",
              "1970      536545     21134         NaN  ...        0.0        NaN  United Kingdom\n",
              "1971      536546     22145         NaN  ...        0.0        NaN  United Kingdom\n",
              "1972      536547     37509         NaN  ...        0.0        NaN  United Kingdom\n",
              "1987      536549    85226A         NaN  ...        0.0        NaN  United Kingdom\n",
              "1988      536550     85044         NaN  ...        0.0        NaN  United Kingdom\n",
              "2024      536552     20950         NaN  ...        0.0        NaN  United Kingdom\n",
              "2025      536553     37461         NaN  ...        0.0        NaN  United Kingdom\n",
              "2026      536554     84670         NaN  ...        0.0        NaN  United Kingdom\n",
              "2406      536589     21777         NaN  ...        0.0        NaN  United Kingdom\n",
              "4347      536764    84952C         NaN  ...        0.0        NaN  United Kingdom\n",
              "4348      536765    84952C         NaN  ...        0.0        NaN  United Kingdom\n",
              "7187      536995     35951         NaN  ...        0.0        NaN  United Kingdom\n",
              "7188      536996     22712         NaN  ...        0.0        NaN  United Kingdom\n",
              "7189      536997     22028         NaN  ...        0.0        NaN  United Kingdom\n",
              "7190      536998     85067         NaN  ...        0.0        NaN  United Kingdom\n",
              "7191      536999     21421         NaN  ...        0.0        NaN  United Kingdom\n",
              "7192      537000     21414         NaN  ...        0.0        NaN  United Kingdom\n",
              "7193      537001     21653         NaN  ...        0.0        NaN  United Kingdom\n",
              "7194      537002     21651         NaN  ...        0.0        NaN  United Kingdom\n",
              "7195      537003     85126         NaN  ...        0.0        NaN  United Kingdom\n",
              "7196      537004     21814         NaN  ...        0.0        NaN  United Kingdom\n",
              "7197      537005     21692         NaN  ...        0.0        NaN  United Kingdom\n",
              "7198      537006     21648         NaN  ...        0.0        NaN  United Kingdom\n",
              "7199      537007     21172         NaN  ...        0.0        NaN  United Kingdom\n",
              "7200      537008     21161         NaN  ...        0.0        NaN  United Kingdom\n",
              "7201      537009    84534B         NaN  ...        0.0        NaN  United Kingdom\n",
              "7202      537010     22162         NaN  ...        0.0        NaN  United Kingdom\n",
              "7203      537011     22139         NaN  ...        0.0        NaN  United Kingdom\n",
              "7204      537012     21535         NaN  ...        0.0        NaN  United Kingdom\n",
              "...          ...       ...         ...  ...        ...        ...             ...\n",
              "497632    578431     22579         NaN  ...        0.0        NaN  United Kingdom\n",
              "497677    578456     22579         NaN  ...        0.0        NaN  United Kingdom\n",
              "498597    578529     22087         NaN  ...        0.0        NaN  United Kingdom\n",
              "499156    578628     23541         NaN  ...        0.0        NaN  United Kingdom\n",
              "499157    578629     22943         NaN  ...        0.0        NaN  United Kingdom\n",
              "499169    578632     22579         NaN  ...        0.0        NaN  United Kingdom\n",
              "499787    578693     21811         NaN  ...        0.0        NaN  United Kingdom\n",
              "500161    578738     21638         NaN  ...        0.0        NaN  United Kingdom\n",
              "508796    579272     22812         NaN  ...        0.0        NaN  United Kingdom\n",
              "510622    579460     21110         NaN  ...        0.0        NaN  United Kingdom\n",
              "511451    579500     22810         NaN  ...        0.0        NaN  United Kingdom\n",
              "514205    579688     21116         NaN  ...        0.0        NaN  United Kingdom\n",
              "514287    579691    47503A         NaN  ...        0.0        NaN  United Kingdom\n",
              "514651    579738     21927         NaN  ...        0.0        NaN  United Kingdom\n",
              "516189    579880     22947         NaN  ...        0.0        NaN  United Kingdom\n",
              "517719    580087    84341B         NaN  ...        0.0        NaN  United Kingdom\n",
              "519967    580197     22696         NaN  ...        0.0        NaN  United Kingdom\n",
              "521333    580359     20775         NaN  ...        0.0        NaN  United Kingdom\n",
              "522160    580379    72225C         NaN  ...        0.0        NaN  United Kingdom\n",
              "522162    580381     21758         NaN  ...        0.0        NaN  United Kingdom\n",
              "524473    580580     21804         NaN  ...        0.0        NaN  United Kingdom\n",
              "524475    580588     21808         NaN  ...        0.0        NaN  United Kingdom\n",
              "529667    580743    47591B         NaN  ...        0.0        NaN  United Kingdom\n",
              "533711    581102     21803         NaN  ...        0.0        NaN  United Kingdom\n",
              "533712    581103     22689         NaN  ...        0.0        NaN  United Kingdom\n",
              "535322    581199     84581         NaN  ...        0.0        NaN  United Kingdom\n",
              "535326    581203     23406         NaN  ...        0.0        NaN  United Kingdom\n",
              "535332    581209     21620         NaN  ...        0.0        NaN  United Kingdom\n",
              "536981    581234     72817         NaN  ...        0.0        NaN  United Kingdom\n",
              "538554    581408     85175         NaN  ...        0.0        NaN  United Kingdom\n",
              "\n",
              "[1454 rows x 8 columns]"
            ]
          },
          "metadata": {
            "tags": []
          },
          "execution_count": 8
        }
      ]
    },
    {
      "cell_type": "markdown",
      "metadata": {
        "id": "OpAhltPeHaLR",
        "colab_type": "text"
      },
      "source": [
        "**Exclude negative Quatity entries**"
      ]
    },
    {
      "cell_type": "code",
      "metadata": {
        "id": "71F-5PY-HZ6T",
        "colab_type": "code",
        "colab": {
          "base_uri": "https://localhost:8080/",
          "height": 238
        },
        "outputId": "ae17644c-457e-4227-a39e-a60f75466bf8"
      },
      "source": [
        "df = df[df[\"Quantity\"] >= 0]\n",
        "df.info()"
      ],
      "execution_count": 10,
      "outputs": [
        {
          "output_type": "stream",
          "text": [
            "<class 'pandas.core.frame.DataFrame'>\n",
            "Int64Index: 531285 entries, 0 to 541908\n",
            "Data columns (total 8 columns):\n",
            "InvoiceNo      531285 non-null object\n",
            "StockCode      531285 non-null object\n",
            "Description    530693 non-null object\n",
            "Quantity       531285 non-null int64\n",
            "InvoiceDate    531285 non-null object\n",
            "UnitPrice      531285 non-null float64\n",
            "CustomerID     397924 non-null float64\n",
            "Country        531285 non-null object\n",
            "dtypes: float64(2), int64(1), object(5)\n",
            "memory usage: 36.5+ MB\n"
          ],
          "name": "stdout"
        }
      ]
    },
    {
      "cell_type": "markdown",
      "metadata": {
        "id": "s5idc5z2H1zJ",
        "colab_type": "text"
      },
      "source": [
        "**Exclude negative Price entries**"
      ]
    },
    {
      "cell_type": "code",
      "metadata": {
        "id": "_8OdtEVFH1fr",
        "colab_type": "code",
        "colab": {
          "base_uri": "https://localhost:8080/",
          "height": 238
        },
        "outputId": "61a9979a-edc0-4393-9f7d-e77de4b72040"
      },
      "source": [
        "df = df[df[\"UnitPrice\"] >= 0]\n",
        "df.info()"
      ],
      "execution_count": 11,
      "outputs": [
        {
          "output_type": "stream",
          "text": [
            "<class 'pandas.core.frame.DataFrame'>\n",
            "Int64Index: 531283 entries, 0 to 541908\n",
            "Data columns (total 8 columns):\n",
            "InvoiceNo      531283 non-null object\n",
            "StockCode      531283 non-null object\n",
            "Description    530691 non-null object\n",
            "Quantity       531283 non-null int64\n",
            "InvoiceDate    531283 non-null object\n",
            "UnitPrice      531283 non-null float64\n",
            "CustomerID     397924 non-null float64\n",
            "Country        531283 non-null object\n",
            "dtypes: float64(2), int64(1), object(5)\n",
            "memory usage: 36.5+ MB\n"
          ],
          "name": "stdout"
        }
      ]
    },
    {
      "cell_type": "markdown",
      "metadata": {
        "id": "Ikd1t-v3Pm17",
        "colab_type": "text"
      },
      "source": [
        "### Step 3 - EDA"
      ]
    },
    {
      "cell_type": "markdown",
      "metadata": {
        "id": "-T3iojz1If_r",
        "colab_type": "text"
      },
      "source": [
        "**The customer with the highest number of orders comes from the United Kingdom (UK)**"
      ]
    },
    {
      "cell_type": "code",
      "metadata": {
        "id": "qIUoWtlPIhxJ",
        "colab_type": "code",
        "colab": {
          "base_uri": "https://localhost:8080/",
          "height": 51
        },
        "outputId": "23c08696-d918-458f-e2e9-c4bc95a6cbdc"
      },
      "source": [
        "# Your code here\n",
        "# Filter orders come from the UK, then count base on CustomerID\n",
        "df[df[\"Country\"]==\"United Kingdom\"][\"CustomerID\"].value_counts().head(1)"
      ],
      "execution_count": 14,
      "outputs": [
        {
          "output_type": "execute_result",
          "data": {
            "text/plain": [
              "17841.0    7847\n",
              "Name: CustomerID, dtype: int64"
            ]
          },
          "metadata": {
            "tags": []
          },
          "execution_count": 14
        }
      ]
    },
    {
      "cell_type": "markdown",
      "metadata": {
        "id": "9yUfXWelIiTg",
        "colab_type": "text"
      },
      "source": [
        "**The customer with the highest money spent on purchases comes from Netherlands**"
      ]
    },
    {
      "cell_type": "code",
      "metadata": {
        "id": "qCN_rIThJDRj",
        "colab_type": "code",
        "colab": {
          "base_uri": "https://localhost:8080/",
          "height": 68
        },
        "outputId": "faf014ee-ca36-44f6-e107-c053501e8af8"
      },
      "source": [
        "# Your code here\n",
        "# Make an TotalPay column equal to Quantity*UnitPrice\n",
        "df[\"TotalPay\"] = df.apply(lambda row: row.Quantity*row.UnitPrice, axis = 1)\n",
        "# Filter orders come from NetherLands, then groupby CustomerID to find the largest TotalPay of all\n",
        "df[df[\"Country\"]==\"Netherlands\"].groupby(\"CustomerID\").sum().nlargest(1, \"TotalPay\")[\"TotalPay\"]"
      ],
      "execution_count": 19,
      "outputs": [
        {
          "output_type": "execute_result",
          "data": {
            "text/plain": [
              "CustomerID\n",
              "14646.0    280206.02\n",
              "Name: TotalPay, dtype: float64"
            ]
          },
          "metadata": {
            "tags": []
          },
          "execution_count": 19
        }
      ]
    },
    {
      "cell_type": "markdown",
      "metadata": {
        "id": "UcCxS85hIwLb",
        "colab_type": "text"
      },
      "source": [
        "**On which year had the highest sales?**"
      ]
    },
    {
      "cell_type": "code",
      "metadata": {
        "id": "i-7RsisUI_gc",
        "colab_type": "code",
        "colab": {}
      },
      "source": [
        "# Your code here\n",
        "# Make \"Year\" column\n",
        "#df[\"InvoiceDate\"][0].split('/')[2].split(' ')[0]\n",
        "df[\"Year\"] = df.apply(lambda row: 2000 + int(row[\"InvoiceDate\"].split('/')[2].split(' ')[0]), axis = 1)"
      ],
      "execution_count": 0,
      "outputs": []
    },
    {
      "cell_type": "code",
      "metadata": {
        "id": "iq2YFDAIzsdm",
        "colab_type": "code",
        "colab": {
          "base_uri": "https://localhost:8080/",
          "height": 68
        },
        "outputId": "2ba60dbd-e104-46e6-8ee0-4d4c12b9decb"
      },
      "source": [
        "# Take the maximum value of \"TotalPay\"\n",
        "df.groupby(\"Year\").sum().nlargest(1, \"TotalPay\")[\"TotalPay\"]"
      ],
      "execution_count": 65,
      "outputs": [
        {
          "output_type": "execute_result",
          "data": {
            "text/plain": [
              "Year\n",
              "2011    9.842938e+06\n",
              "Name: TotalPay, dtype: float64"
            ]
          },
          "metadata": {
            "tags": []
          },
          "execution_count": 65
        }
      ]
    },
    {
      "cell_type": "markdown",
      "metadata": {
        "id": "W-IKvzruKHXb",
        "colab_type": "text"
      },
      "source": [
        "**How many orders (per hour)?**"
      ]
    },
    {
      "cell_type": "code",
      "metadata": {
        "id": "RHS5ridWKQ4u",
        "colab_type": "code",
        "colab": {}
      },
      "source": [
        "# Make \"Hour\" column\n",
        "df[\"Hour\"] = df.apply(lambda row: int(row[\"InvoiceDate\"].split(':')[0].split(' ')[-1]), axis = 1)"
      ],
      "execution_count": 0,
      "outputs": []
    },
    {
      "cell_type": "code",
      "metadata": {
        "id": "uOMTSfS40m0e",
        "colab_type": "code",
        "colab": {
          "base_uri": "https://localhost:8080/",
          "height": 306
        },
        "outputId": "dcc39963-82c5-4843-fa80-d756e8a69f35"
      },
      "source": [
        "# Count groupby Hour\n",
        "df.groupby(\"Hour\").count().InvoiceNo"
      ],
      "execution_count": 61,
      "outputs": [
        {
          "output_type": "execute_result",
          "data": {
            "text/plain": [
              "Hour\n",
              "6         1\n",
              "7       379\n",
              "8      8805\n",
              "9     33755\n",
              "10    47895\n",
              "11    56312\n",
              "12    77230\n",
              "13    71075\n",
              "14    66266\n",
              "15    76432\n",
              "16    53451\n",
              "17    27635\n",
              "18     7729\n",
              "19     3516\n",
              "20      802\n",
              "Name: InvoiceNo, dtype: int64"
            ]
          },
          "metadata": {
            "tags": []
          },
          "execution_count": 61
        }
      ]
    },
    {
      "cell_type": "markdown",
      "metadata": {
        "id": "dqCZUmx0KKfS",
        "colab_type": "text"
      },
      "source": [
        "**Make a plot about number of orders per hour**"
      ]
    },
    {
      "cell_type": "code",
      "metadata": {
        "id": "-KPgD51AKKE6",
        "colab_type": "code",
        "colab": {
          "base_uri": "https://localhost:8080/",
          "height": 303
        },
        "outputId": "98f4c845-a712-4244-d70f-033fb8eeee28"
      },
      "source": [
        "df.groupby(\"Hour\").count().InvoiceNo.plot(kind='bar')"
      ],
      "execution_count": 63,
      "outputs": [
        {
          "output_type": "execute_result",
          "data": {
            "text/plain": [
              "<matplotlib.axes._subplots.AxesSubplot at 0x7f7a5d3705f8>"
            ]
          },
          "metadata": {
            "tags": []
          },
          "execution_count": 63
        },
        {
          "output_type": "display_data",
          "data": {
            "image/png": "[encoded data removed]",
            "text/plain": [
              "<Figure size 432x288 with 1 Axes>"
            ]
          },
          "metadata": {
            "tags": []
          }
        }
      ]
    },
    {
      "cell_type": "markdown",
      "metadata": {
        "colab_type": "text",
        "id": "-8ZwTvS6L0vS"
      },
      "source": [
        "**How many orders (per month)?**"
      ]
    },
    {
      "cell_type": "code",
      "metadata": {
        "colab_type": "code",
        "id": "NeOp_6a3L0vX",
        "colab": {}
      },
      "source": [
        "# Make \"Month\" Column\n",
        "df[\"Month\"] = df.apply(lambda row: int(row[\"InvoiceDate\"].split('/')[0]), axis = 1)"
      ],
      "execution_count": 0,
      "outputs": []
    },
    {
      "cell_type": "code",
      "metadata": {
        "id": "cUHfZi7C4OgC",
        "colab_type": "code",
        "colab": {
          "base_uri": "https://localhost:8080/",
          "height": 255
        },
        "outputId": "547af6c7-4c73-4bc2-a4e4-315edd09e834"
      },
      "source": [
        "df.groupby(\"Month\").count().InvoiceNo"
      ],
      "execution_count": 70,
      "outputs": [
        {
          "output_type": "execute_result",
          "data": {
            "text/plain": [
              "Month\n",
              "1     34350\n",
              "2     27184\n",
              "3     35915\n",
              "4     29171\n",
              "5     36292\n",
              "6     36056\n",
              "7     38716\n",
              "8     34564\n",
              "9     49323\n",
              "10    59396\n",
              "11    83498\n",
              "12    66818\n",
              "Name: InvoiceNo, dtype: int64"
            ]
          },
          "metadata": {
            "tags": []
          },
          "execution_count": 70
        }
      ]
    },
    {
      "cell_type": "markdown",
      "metadata": {
        "colab_type": "text",
        "id": "sOYrMUczL0vb"
      },
      "source": [
        "**Make a plot about number of orders per month**"
      ]
    },
    {
      "cell_type": "code",
      "metadata": {
        "id": "e7RJQ5MbL4cY",
        "colab_type": "code",
        "colab": {
          "base_uri": "https://localhost:8080/",
          "height": 303
        },
        "outputId": "1e5abc82-5104-4753-f129-fea9779baaa2"
      },
      "source": [
        "df.groupby(\"Month\").count().InvoiceNo.plot(kind='bar')"
      ],
      "execution_count": 68,
      "outputs": [
        {
          "output_type": "execute_result",
          "data": {
            "text/plain": [
              "<matplotlib.axes._subplots.AxesSubplot at 0x7f7a5aaaf6a0>"
            ]
          },
          "metadata": {
            "tags": []
          },
          "execution_count": 68
        },
        {
          "output_type": "display_data",
          "data": {
            "image/png": "[encoded data removed]",
            "text/plain": [
              "<Figure size 432x288 with 1 Axes>"
            ]
          },
          "metadata": {
            "tags": []
          }
        }
      ]
    },
    {
      "cell_type": "markdown",
      "metadata": {
        "id": "E3eeyQeBLd6e",
        "colab_type": "text"
      },
      "source": [
        "**Top 10 items most sales**"
      ]
    },
    {
      "cell_type": "code",
      "metadata": {
        "id": "4trjB9ZjLhEv",
        "colab_type": "code",
        "colab": {
          "base_uri": "https://localhost:8080/",
          "height": 221
        },
        "outputId": "1aa75055-499a-476b-b833-b8a3d4b1c094"
      },
      "source": [
        "df.groupby(\"StockCode\").count().InvoiceNo.nlargest(10)"
      ],
      "execution_count": 74,
      "outputs": [
        {
          "output_type": "execute_result",
          "data": {
            "text/plain": [
              "StockCode\n",
              "85123A    2270\n",
              "85099B    2115\n",
              "22423     2019\n",
              "47566     1707\n",
              "20725     1595\n",
              "84879     1489\n",
              "22197     1426\n",
              "22720     1401\n",
              "21212     1370\n",
              "20727     1328\n",
              "Name: InvoiceNo, dtype: int64"
            ]
          },
          "metadata": {
            "tags": []
          },
          "execution_count": 74
        }
      ]
    },
    {
      "cell_type": "markdown",
      "metadata": {
        "id": "ggak_TMtLh5o",
        "colab_type": "text"
      },
      "source": [
        ""
      ]
    },
    {
      "cell_type": "markdown",
      "metadata": {
        "id": "-dEBLw1uPm1-",
        "colab_type": "text"
      },
      "source": [
        "**Create a histogram with the 10 countries that have the most 'Quantity' ordered except UK**"
      ]
    },
    {
      "cell_type": "code",
      "metadata": {
        "id": "_N-UF331Pm1-",
        "colab_type": "code",
        "colab": {
          "base_uri": "https://localhost:8080/",
          "height": 221
        },
        "outputId": "a68db057-fda6-4d10-d24d-3cb064bc564c"
      },
      "source": [
        "# Your code here\n",
        "\n",
        "# What can you tell about this?\n",
        "\n",
        "# Filter United Kingdom, then groupby Country\n",
        "df[df[\"Country\"] != \"United Kingdom\"].groupby(\"Country\").sum().nlargest(10, \"Quantity\")[\"Quantity\"]"
      ],
      "execution_count": 84,
      "outputs": [
        {
          "output_type": "execute_result",
          "data": {
            "text/plain": [
              "Country\n",
              "Netherlands    200937\n",
              "EIRE           147447\n",
              "Germany        119263\n",
              "France         112104\n",
              "Australia       84209\n",
              "Sweden          36083\n",
              "Switzerland     30630\n",
              "Spain           27951\n",
              "Japan           26016\n",
              "Belgium         23237\n",
              "Name: Quantity, dtype: int64"
            ]
          },
          "metadata": {
            "tags": []
          },
          "execution_count": 84
        }
      ]
    },
    {
      "cell_type": "markdown",
      "metadata": {
        "id": "goTE_vJP66ME",
        "colab_type": "text"
      },
      "source": [
        "There are 5 countrys which have total number of Quantity are from 23237 to 41007...."
      ]
    },
    {
      "cell_type": "code",
      "metadata": {
        "id": "pdH_GXNI5fLt",
        "colab_type": "code",
        "colab": {
          "base_uri": "https://localhost:8080/",
          "height": 337
        },
        "outputId": "588162de-7c90-48e7-86b7-313e80b1a774"
      },
      "source": [
        "plt.hist(df[df[\"Country\"] != \"United Kingdom\"].groupby(\"Country\").sum().nlargest(10, \"Quantity\")[\"Quantity\"], bins = 10)"
      ],
      "execution_count": 95,
      "outputs": [
        {
          "output_type": "execute_result",
          "data": {
            "text/plain": [
              "(array([5., 0., 0., 1., 0., 2., 1., 0., 0., 1.]),\n",
              " array([ 23237.,  41007.,  58777.,  76547.,  94317., 112087., 129857.,\n",
              "        147627., 165397., 183167., 200937.]),\n",
              " <a list of 10 Patch objects>)"
            ]
          },
          "metadata": {
            "tags": []
          },
          "execution_count": 95
        },
        {
          "output_type": "display_data",
          "data": {
            "image/png": "[encoded data removed]",
            "text/plain": [
              "<Figure size 432x288 with 1 Axes>"
            ]
          },
          "metadata": {
            "tags": []
          }
        }
      ]
    },
    {
      "cell_type": "markdown",
      "metadata": {
        "id": "MoBgPjDiwhdV",
        "colab_type": "text"
      },
      "source": [
        "### You are awesome!!"
      ]
    }
  ]
}